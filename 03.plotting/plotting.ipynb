{
 "cells": [
  {
   "cell_type": "markdown",
   "id": "6da93520-a559-4c95-ba67-b943e94c50e8",
   "metadata": {},
   "source": [
    "# plotting data using seaborn\n",
    "\n",
    "In this exercsise, we’re going to investigate how temperature has changed over time, using monthly observations from the Armagh Observatory. By the end of this exercise, you will:\n",
    "\n",
    "- load data from a file\n",
    "- add variables to a table\n",
    "- create date objects from character strings\n",
    "- recode values in a table\n",
    "- select data from a table using logical expressions\n",
    "- create scatter plots (with smoothing lines)\n",
    "- create histograms (+ smoothed histograms)\n",
    "- save plots to a file\n",
    "\n",
    "## data\n",
    "\n",
    "The data used in this exercise are the historic meteorological observations from the [Armagh Observatory](https://www.metoffice.gov.uk/weather/learn-about/how-forecasts-are-made/observations/recording-observations-for-over-100-years), downloaded from the [UK Met Office](https://www.metoffice.gov.uk/research/climate/maps-and-data/historic-station-data).\n",
    "\n",
    "To make the data slightly easier to work with, I have done the following:\n",
    "- Removed the header on lines 1-5\n",
    "- Replaced multiple spaces with a single space, and replaced single spaces with a comma (`,`)\n",
    "- Removed `---` to indicate no data, leaving these fields blank\n",
    "- Removed `*` indicating provisional/estimated values\n",
    "- Removed the 2023 data\n",
    "- Renamed the file `armaghdata.csv`.\n",
    "\n",
    "If you wish to use your own data (and there are loads of stations available!), please feel free. I have also included a script, `convert_metoffice.py` (in the `scripts/` folder), that will do these steps automatically. All you need to do is run the following from a terminal:\n",
    "\n",
    "```\n",
    "    convert_metoffice.py {station}data.txt\n",
    "\n",
    "```\n",
    "\n",
    "This will create a new file, `{station}data.csv`, that has converted + cleaned the data into a CSV format that can easily be read by `pandas`.\n",
    "\n",
    "## importing libraries\n",
    "\n",
    "Before getting started, we will import the libraries (packages) that we will use in the exercise:\n",
    "\n",
    "- [pandas](https://pandas.pydata.org/), for reading the data from a file;\n",
    "- [seaborn](https://seaborn.pydata.org/), for plotting the data\n",
    "\n",
    "To do this, we use the `import` statement, followed by the name of the package. Remember that we can also *alias* the package name using `as`:"
   ]
  },
  {
   "cell_type": "code",
   "execution_count": null,
   "id": "8d8d877f-4762-4e6f-b4b0-ce4f7fe05d66",
   "metadata": {},
   "outputs": [],
   "source": [
    "import pandas as pd # import pandas, but alias it as pd\n",
    "import seaborn as sns # import seaborn, but alias it as sns"
   ]
  },
  {
   "cell_type": "markdown",
   "id": "7ef5b0b1-316e-4798-86a1-1241cfc94ea6",
   "metadata": {},
   "source": [
    "## loading the data\n",
    "\n",
    "Now, we're ready to load the data file, using `pd.read_csv()` ([documentation](https://pandas.pydata.org/pandas-docs/stable/reference/api/pandas.read_csv.html)):"
   ]
  },
  {
   "cell_type": "code",
   "execution_count": null,
   "id": "d0625879-e546-440c-8675-f519b873942f",
   "metadata": {},
   "outputs": [],
   "source": [
    "armagh = pd.read_csv('data/armaghdata.csv')"
   ]
  },
  {
   "cell_type": "markdown",
   "id": "c58b9571-df2f-4ba9-8a8e-cfbc1dde7057",
   "metadata": {},
   "source": [
    "`pandas` has a number of functions for reading data from files, depending on the format - another common one you might use is `pd.read_excel()` ([documentation](https://pandas.pydata.org/pandas-docs/stable/reference/api/pandas.read_excel.html)). Note that in order to read Excel files, you will need to install **openpyxl** ([link](https://openpyxl.readthedocs.io/)) using **conda**.\n",
    "\n",
    "To view a summary of the **DataFrame**, we can use the `.head()` method ([documentation](https://pandas.pydata.org/pandas-docs/stable/reference/api/pandas.DataFrame.head.html)):"
   ]
  },
  {
   "cell_type": "code",
   "execution_count": null,
   "id": "40933402-3915-42e7-a37d-9f6ea908b5f2",
   "metadata": {},
   "outputs": [],
   "source": [
    "armagh.head(n=10) # show the first 10 rows of the dataframe"
   ]
  },
  {
   "cell_type": "markdown",
   "id": "4ae7a9b3-69b8-4432-863f-768c9d216d72",
   "metadata": {},
   "source": [
    "We can also see that only the `rain` variable has values back to 1853 - missing values are indicated by `NaN`, which means \"Not a Number\" - i.e., missing.\n",
    "\n",
    "## adding variables to the table\n",
    "\n",
    "Before moving on, we'll see how we can add additional variables to the table, starting with the date. This will make it easier for us to plot and analyze the time series of observations.\n",
    "\n",
    "We want this column to be represented as a **datetime** object so that it displays properly when we plot it, and because we may want to do calculations using the date/time. When working with **DataFrame** objects, the easiest way to do this is using `pd.to_datetime()` ([documentation](https://pandas.pydata.org/pandas-docs/stable/reference/api/pandas.to_datetime.html)). The argument that we will use for this function is a **dict** object, with key/value pairs corresponding to **year**, **month**, and **day**. Because we don't have a **day** column in the **DataFrame**, we will just default to a value of 1:"
   ]
  },
  {
   "cell_type": "code",
   "execution_count": null,
   "id": "bcb60c38-9d62-4372-b193-5aef53836675",
   "metadata": {},
   "outputs": [],
   "source": [
    "pd.to_datetime({'year': armagh['yyyy'], 'month': armagh['mm'], 'day': 1}) # format datetime objects using the yyyy and mm columns"
   ]
  },
  {
   "cell_type": "markdown",
   "id": "daa0f176-c8e2-4aff-9a27-cd0e2b4ea99e",
   "metadata": {},
   "source": [
    "Now, we can add this to the **DataFrame** as a column called `date`:"
   ]
  },
  {
   "cell_type": "code",
   "execution_count": null,
   "id": "df9e954d-9789-499e-b385-a180ff335bab",
   "metadata": {},
   "outputs": [],
   "source": [
    "armagh['date'] = pd.to_datetime({'year': armagh['yyyy'], 'month': armagh['mm'], 'day': 1}) # add the datetime series to the dataframe with the name 'date'\n",
    "\n",
    "armagh.head(n=10) # show the first 10 rows of the table"
   ]
  },
  {
   "cell_type": "markdown",
   "id": "114ecf51-0a03-40f3-9015-4a9dc059c958",
   "metadata": {},
   "source": [
    "we can also check the data type of the new column - we should see that it is `datetime64[ns]`, corresponding to a 64-bit **datetime** object with units of nanoseconds:"
   ]
  },
  {
   "cell_type": "code",
   "execution_count": null,
   "id": "252e116a-a504-424f-86b3-b57520452717",
   "metadata": {},
   "outputs": [],
   "source": [
    "armagh.dtypes # see the data type of each column"
   ]
  },
  {
   "cell_type": "markdown",
   "id": "7afd444c-a93c-4519-a93d-88421336b9d7",
   "metadata": {},
   "source": [
    "## calculating a new column\n",
    "\n",
    "One thing we might be interested in doing is aggregating our observations by meteorological season, rather than just by month or year. To help us with this, we can calculate a new variable, `season`, and assign it values based on whether the month is part of the meteorological spring (March, April, May), summer (June, July, August), autumn (September, October, November), or winter (December, January, February).\n",
    "\n",
    "Another way to look at this is by thinking of these as `if ... then ... else` statements:\n",
    "\n",
    "- **if** month is 1, 2, or 12, **then** `season` is \"winter\"\n",
    "- **if** month is 3, 4, or 5, **then** `season` is \"spring\"\n",
    "- **if** month is 6, 7, or 8, **then** `season` is \"summer\"\n",
    "- **if** month is 9, 10, or 11, **then** `season` is \"autumn\"\n",
    "\n",
    "First, let's see how we can select rows from a table using a **conditional** statement. We'll start by looking at what happens when we include a **Series** in a conditional statement, by showing which values of `mm` are less than 3:"
   ]
  },
  {
   "cell_type": "code",
   "execution_count": null,
   "id": "57b32a1d-3f82-42b8-98f5-9735033c6fc8",
   "metadata": {},
   "outputs": [],
   "source": [
    "armagh['mm'] < 3 # get a series of True/False values where this conditional is met"
   ]
  },
  {
   "cell_type": "markdown",
   "id": "55a417e1-f500-42e6-b62a-e7c63a14eb25",
   "metadata": {},
   "source": [
    "As you can see, when we use a **Series** in a conditional statement, the result is itself a **Series** (of type `bool`). We can use conditional statements like this to select rows from the **DataFrame** where the condition is met (i.e., where the conditional **Series** has a value of `True`).\n",
    "\n",
    "For example, if we want to select all rows where the value in the `mm` column is less than 3, we could write:"
   ]
  },
  {
   "cell_type": "code",
   "execution_count": null,
   "id": "fae700ea-4504-4898-b3f6-f77c99dc22c1",
   "metadata": {},
   "outputs": [],
   "source": [
    "armagh.loc[armagh['mm'] < 3] # select rows where month is < 3"
   ]
  },
  {
   "cell_type": "markdown",
   "id": "57f2a143-a9dd-470b-9c8b-59af6a2af4b5",
   "metadata": {},
   "source": [
    "As you can see, this selects a total of 340 rows from the table, wherever the value in the `mm` column is 1 or 2 (`< 3`).\n",
    "\n",
    "But, the winter months also include December (month 12), which means we have to combine (or \"chain\") these conditions. First, let's see what happens if we try to do this using the `or` operator:"
   ]
  },
  {
   "cell_type": "code",
   "execution_count": null,
   "id": "b4ff115a-753e-458b-9c66-0c175cdf320d",
   "metadata": {},
   "outputs": [],
   "source": [
    "armagh['mm'] < 3 or armagh['mm'] == 12"
   ]
  },
  {
   "cell_type": "markdown",
   "id": "9fa1779e-ad2c-4a80-a8df-2e33c3fbaef1",
   "metadata": {},
   "source": [
    "This hasn't worked, because `or` attempts to convert each conditional statement to a **bool** object. Because a **Series** has many values, each of which will be evaluated differently, this is not possible to do cleanly (it's \"ambiguous\"). This means that we can't use the boolean `or` operator; instead, we have to use the \"bitwise or\" operator, `|` (also known as the \"pipe\" operator). This will compare the two **Series** objects item-by-item, rather than attempting to convert the **Series** to a single boolean value.\n",
    "\n",
    "Finally, in order to combine conditional statements involving a **Series**, we also have to wrap each conditional statement in parentheses:\n",
    "\n",
    "```python\n",
    "(armagh['mm'] < 3) or (armagh['mm'] == 12)\n",
    "```\n",
    "\n",
    "Run the cell below - you should see that it evaluates correctly, returning a **Series** of `True`/`False` values that are `True` wherever either condition is met, and `False` where neither condition is met:"
   ]
  },
  {
   "cell_type": "code",
   "execution_count": null,
   "id": "28805b33-9e6b-4c42-ac86-edbe7e845779",
   "metadata": {},
   "outputs": [],
   "source": [
    "(armagh['mm'] < 3) | (armagh['mm'] == 12) # get a series of True/False values where either condition is met"
   ]
  },
  {
   "cell_type": "markdown",
   "id": "5f4ecbab-6547-439e-bacc-168088737afe",
   "metadata": {},
   "source": [
    "Now, we can use these combined conditions in a single indexing call, to select all of the rows from the **DataFrame** where *either* condition is met:"
   ]
  },
  {
   "cell_type": "code",
   "execution_count": null,
   "id": "1f0a3aab-dea8-4926-85de-5f188d04742c",
   "metadata": {},
   "outputs": [],
   "source": [
    "armagh.loc[(armagh['mm'] < 3) | (armagh['mm'] == 12)] # select rows where month is < 3 or == 12"
   ]
  },
  {
   "cell_type": "markdown",
   "id": "2dd0cb3d-52d7-47de-9cc7-73e7b64f4db8",
   "metadata": {},
   "source": [
    "In addition to the 340 rows corresponding to January and February measurements, we've also added 170 observations from December.\n",
    "\n",
    "However, this can be unwieldy for some kinds of conditions, so there's another way we can do this. Instead of chaining conditionals using `|`, we could instead use the `in` operator to write this a bit more compactly. \n",
    "\n",
    "For a **pandas** **Series**, this can be done using the `.isin()` method ([documentation](https://pandas.pydata.org/pandas-docs/stable/reference/api/pandas.Series.isin.html)) and a **list** (or other sequence) of the values to compare:"
   ]
  },
  {
   "cell_type": "code",
   "execution_count": null,
   "id": "d59a9120-be9c-4204-beb2-e1f661fd266f",
   "metadata": {},
   "outputs": [],
   "source": [
    "armagh.loc[armagh['mm'].isin([1, 2, 12])] # select from the table based on whether values are in [1, 2, 12]"
   ]
  },
  {
   "cell_type": "markdown",
   "id": "6ff4ca50-4338-468d-9b8b-b65f023a74a2",
   "metadata": {},
   "source": [
    "We can then write 4 separate statements to assign these values to the **DataFrame**:"
   ]
  },
  {
   "cell_type": "code",
   "execution_count": null,
   "id": "7bf46fd0-07be-4516-a9bb-cb5acc38622c",
   "metadata": {},
   "outputs": [],
   "source": [
    "armagh['season'] = '' # initialize an empty string column\n",
    "armagh.loc[armagh['mm'].isin([1, 2, 12]), 'season'] = 'winter' # if month is 1, 2, or 12, set season to winter\n",
    "armagh.loc[armagh['mm'].isin(range(3, 6)), 'season'] = 'spring' # if month is 3, 4, or 5, set season to spring\n",
    "armagh.loc[armagh['mm'].isin(range(6, 9)), 'season'] = 'summer' # if month is 6, 7, or 8, set season to summer\n",
    "armagh.loc[armagh['mm'].isin(range(9, 12)), 'season'] = 'autumn' # if month is 9, 10, or 11, set season to autumn\n",
    "\n",
    "armagh.head(n=12) # show the first year of data, to check that we have set the values properly"
   ]
  },
  {
   "cell_type": "markdown",
   "id": "288179c8-5ad9-41a5-8ed3-9358331d5ca5",
   "metadata": {},
   "source": [
    "Later in the workshop, we'll see other ways that we can use to re-classify (or \"recode\", or \"map\", or ...) the values of one variable to another.\n",
    "\n",
    "## plotting data\n",
    "\n",
    "To plot data, we'll use `seaborn`, a popular package for plotting data that integrates well with `pandas` **DataFrame** objects.\n",
    "\n",
    "\n",
    "### example: scatter plot\n",
    "\n",
    "In this exercise, we will look at a number of different example plots using our data, starting with a simple scatter plot using `sns.scatterplot()` ([documentation](https://seaborn.pydata.org/generated/seaborn.scatterplot.html)). \n",
    "\n",
    "We can pass our **DataFrame** to `sns.scatterplot()` using the `data` argument, and specify which columns from the **DataFrame** to plot along the `x` and `y` axes. The following will plot `tmax` (monthly maximum temperature) vs `date` - in other words, a time series of monthly maximum temperature:"
   ]
  },
  {
   "cell_type": "code",
   "execution_count": null,
   "id": "bf2a7dce-d104-41fa-a854-fd0bec1d6b70",
   "metadata": {},
   "outputs": [],
   "source": [
    "sns.scatterplot(data=armagh, x=\"date\", y=\"tmax\") # create a simple scatter plot of tmax vs date, using the armagh dataframe"
   ]
  },
  {
   "cell_type": "markdown",
   "id": "e5b9ed5b-7a28-4a78-85e1-6f47e171d4f2",
   "metadata": {},
   "source": [
    "Note the output of the cell above, above the actual plot:\n",
    "\n",
    "```\n",
    "    <Axes: xlabel='date', ylabel='tmax'>\n",
    "```\n",
    "\n",
    "The `scatterplot` function creates an **Axes** object ([documentation](https://matplotlib.org/stable/api/_as_gen/matplotlib.axes.Axes.html)) - effectively, this is the container into which we put our plot. Our **Axes** object exists within a different kind of object - a **Figure** ([documentation](https://matplotlib.org/stable/api/figure_api.html)).\n",
    "\n",
    "Over the rest of this exercise, we'll look at how we can continue to customize plots, by adding colors, customizing labels, changing font sizes, and so on. As we do so, we'll make use of these objects and their methods/attributes. As we do so, we'll also discuss some important differences between axes-level and figure-level functions in `seaborn`.\n",
    "\n",
    "### example: basic histogram\n",
    "\n",
    "First, though, let's look at another type of plot: a histogram. To create a histogram using `sns.histplot()` ([documentation](https://seaborn.pydata.org/generated/seaborn.histplot.html)), we need to specify the `x` variable. We'll continue using `tmax`, so this will be a histogram of the values of `tmax`:"
   ]
  },
  {
   "cell_type": "code",
   "execution_count": null,
   "id": "49903474-7ac0-48af-a05d-6f50bf25ba83",
   "metadata": {},
   "outputs": [],
   "source": [
    "sns.histplot(data=armagh, x='tmax') # plot a histogram of tmax, using the armagh dataframe"
   ]
  },
  {
   "cell_type": "markdown",
   "id": "541b12b4-5b55-427d-852a-7ef32ff8f97b",
   "metadata": {},
   "source": [
    "By default, `seaborn` calculates the bin width (and therefore number of bins) based on the sample size and variance of the variable. We can also specify the number of bins to use (using the `bins` argument), the width of the bins to use (using the `binwidth` argument), or even the edges of the bins (by passing a sequence of bin edges using the `bins` argument).\n",
    "\n",
    "Here', let's see how the plot changes by specifying using 30 bins:"
   ]
  },
  {
   "cell_type": "code",
   "execution_count": null,
   "id": "8c873ac1-5889-4ac4-ad15-618deb8d38cb",
   "metadata": {},
   "outputs": [],
   "source": [
    "sns.histplot(data=armagh, x='tmax', bins=30) # plot a histogram of tmax, using the armagh dataframe and 30 bins"
   ]
  },
  {
   "cell_type": "markdown",
   "id": "1ce43ff9-544f-4105-a904-52923aa70d62",
   "metadata": {},
   "source": [
    "In the plot above, you can see how `tmax` is distributed, with several apparent peaks around 8°C, 14°C, and 18°C. Presumably, these would be peaks that roughly correspond to winter, spring/autumn, and summer, respectively - let's change the plot slightly so that we can see if this is correct.\n",
    "\n",
    "To do this, we can use the `hue` keyword argument to `sns.histplot()`, which will group the values based on the variable passed (in this case, `season`):"
   ]
  },
  {
   "cell_type": "code",
   "execution_count": null,
   "id": "dbf26206-696e-46c1-8f28-4f6077b842b4",
   "metadata": {},
   "outputs": [],
   "source": [
    "sns.histplot(data=armagh, x=\"tmax\", hue=\"season\", bins=30) # show the distribution of tmax, broken down by season"
   ]
  },
  {
   "cell_type": "markdown",
   "id": "8bc7a6f9-a029-4fe6-84bc-dc5d8113ce45",
   "metadata": {},
   "source": [
    "With this plot, we can see how the total distribution of the dataset is made up of each group - as we had suspected, the peaks on either side primarily correspond to winter (blue) and summer (green), while the peak in the middle is a combination of spring (orange) and autumn (red).\n",
    "\n",
    "With different groups, we can also specify how to display the groups using the `multiple` keyword argument. The value of `multiple` must be one of the following:\n",
    "\n",
    "- `'layer'` - the default, which plots each bin in place using transparency\n",
    "- `'dodge'` - shifts and narrows each bin so that they don't overlap\n",
    "- `'stack'` - stacks bins on top of each other\n",
    "- `'fill'` - stacks bins on top of each other, with each category/bin adding up to 1.\n",
    "\n",
    "In the cell below, add an argument to `histplot` to show the histograms stacked on top of each other:"
   ]
  },
  {
   "cell_type": "code",
   "execution_count": null,
   "id": "55f4bd95-74df-426f-8a52-d0adf0b28025",
   "metadata": {},
   "outputs": [],
   "source": [
    "sns.histplot(data=armagh, x=\"tmax\", hue=\"season\", bins=30) # remember to add the right keyword argument!"
   ]
  },
  {
   "cell_type": "markdown",
   "id": "e868de35-5a45-4731-9954-9ef63223da0e",
   "metadata": {},
   "source": [
    "### example: density plot\n",
    "\n",
    "We can also plot the density distribution of the data, a smoothed version of the histogram, using `sns.kdeplot()` ([documentation](https://seaborn.pydata.org/generated/seaborn.kdeplot.html)):"
   ]
  },
  {
   "cell_type": "code",
   "execution_count": null,
   "id": "1cb117a3-11a6-4247-9b00-a69668ee23aa",
   "metadata": {},
   "outputs": [],
   "source": [
    "sns.kdeplot(data=armagh, x='tmax', hue='season', fill=True) # plot the density distribution of the data, colored by season, filled in"
   ]
  },
  {
   "cell_type": "markdown",
   "id": "b9ced411-ba9f-419d-a44d-867e8dfb8d7d",
   "metadata": {},
   "source": [
    "### example: box plots\n",
    "\n",
    "To make a box plot, we can use `sns.boxplot()` ([documentation](https://seaborn.pydata.org/generated/seaborn.boxplot.html)):"
   ]
  },
  {
   "cell_type": "code",
   "execution_count": null,
   "id": "cefdea3c-c558-40af-8d80-d61d0a5f745c",
   "metadata": {},
   "outputs": [],
   "source": [
    "sns.boxplot(data=armagh, x='season', y='rain') # create a vertical box plot of rain, grouped by season"
   ]
  },
  {
   "cell_type": "markdown",
   "id": "f3589728-3658-4edc-ad97-bbb39bf301c0",
   "metadata": {},
   "source": [
    "To swap the orientation of the boxes, we can change the `x` and `y` mapping:"
   ]
  },
  {
   "cell_type": "code",
   "execution_count": null,
   "id": "c683476f-d3a1-4bef-b208-6fcfedcaee70",
   "metadata": {},
   "outputs": [],
   "source": [
    "sns.boxplot(data=armagh, x='rain', y='season') # create a horizontal box plot of rain, grouped by season"
   ]
  },
  {
   "cell_type": "markdown",
   "id": "3d4d8571-a421-4bec-85db-20cd63846bfa",
   "metadata": {},
   "source": [
    "## figure-level vs axes-level functions\n",
    "\n",
    "`seaborn` has a number of different functions that accomplish the same thing in different ways. So far, we have seen a few different examples of functions that create plots (e.g., `scatterplot`, `histplot`, `boxplot`, etc.). The output of these functions, as we have noted above, is an **Axes** object. Inside of a script, these functions will draw the plot within the \"currently active\" **Axes** object, or inside of whatever **Axes** object you pass to the function using the `ax` argument.\n",
    "\n",
    "Rather than using these axes-level functions, we can also use figure-level plots, which create their own **Figure** object before drawing the plot. To see a simple example of this, let's draw a scatter plot using `sns.relplot()` ([documentation](https://seaborn.pydata.org/generated/seaborn.relplot.html)):"
   ]
  },
  {
   "cell_type": "code",
   "execution_count": null,
   "id": "7069e2e3-cc82-48fa-8ea6-eaef92c86313",
   "metadata": {},
   "outputs": [],
   "source": [
    "sns.relplot(data=armagh, kind='scatter', x='date', y='tmax') # use relplot to show a scatterplot of tmax vs date"
   ]
  },
  {
   "cell_type": "markdown",
   "id": "f74eb993-681a-4b8d-9b1f-8cb8da98eec1",
   "metadata": {},
   "source": [
    "You should notice that the plot looks exactly the same as the scatter plot we created using `sns.scatterplot()`. But, the actual output of the function is different - this time, it's:s\n",
    "\n",
    "```\n",
    "    <seaborn.axisgrid.FacetGrid at 0x25c20984490>\n",
    "```\n",
    "\n",
    "(note that your output will differ slightly). This time, it's a **FacetGrid** ([documentation](https://seaborn.pydata.org/generated/seaborn.FacetGrid.html)), rather than an **Axes** - a multi-plot grid that can be used to show conditional relationships. To see how this works in a more complicated case, let's plot the relationship between `rain` and `tmax`, and use the `col` argument to create a separate panel for each season:"
   ]
  },
  {
   "cell_type": "code",
   "execution_count": null,
   "id": "4970dca3-38c7-4638-9f51-b8d123e0b29b",
   "metadata": {},
   "outputs": [],
   "source": [
    "sns.relplot(data=armagh, kind='scatter', x='rain', y='tmax', col='season', col_wrap=2) # create a 2x2 grid of panels, one for each value of season"
   ]
  },
  {
   "cell_type": "markdown",
   "id": "111141f7-c87b-4a32-9a22-81248bdebfad",
   "metadata": {},
   "source": [
    "we can also use the `hue` argument to assign a color based on a variable. Note that this will also place a **Legend** outside of the plot, explaining what each color/symbol combination means:"
   ]
  },
  {
   "cell_type": "code",
   "execution_count": null,
   "id": "9577b609-10c7-49ca-a5f4-d387e8ac1df4",
   "metadata": {},
   "outputs": [],
   "source": [
    "sns.relplot(data=armagh, kind='scatter', x='rain', y='tmax', col='season', col_wrap=2, hue='season') # create a 2x2 grid of panels, one for each value of season"
   ]
  },
  {
   "cell_type": "markdown",
   "id": "411a8deb-88a5-44bc-8aad-7db8ace0b512",
   "metadata": {},
   "source": [
    "`seaborn` plot types are organized into three different \"modules\", based on what type of data they are meant to show:\n",
    "\n",
    "- `relplot`, for plotting relationships between variables [axes-level: `scatterplot`, `lineplot`]\n",
    "- `displot`, for plotting distributions [axes-level: `histplot`, `kdeplot`, `ecdfplot`, `rugplot`]\n",
    "- `catplot`, for plotting categorical data [axes-level: `stripplot`, `swarmplot`, `boxplot`, `violinplot`, `pointplot`, `barplot`]\n",
    "\n",
    "For each type of plot we want to make, we can use either the figure-level or the axes-level functions, depending on what we are doing. For creating a figure with multiple subplots (for example, to show a separate subplot for each value of a categorical variable), it is easiest to use the figure-level function, rather than the axes-level function. For more information about the differences between figure-level and axes-level functions in `seaborn`, see [this official guide](https://seaborn.pydata.org/tutorial/function_overview.html).\n",
    "\n",
    "## customizing the plot\n",
    "\n",
    "In the final example, we'll make a plot showing the relationship between `rain` and `tmax`, colored by the `season`, and plot regression lines for each season. \n",
    "\n",
    "We'll also see how we can change the axes labels, and increase font sizes, to help make our plot ready for including in a manuscript or presentation.\n",
    "\n",
    "To plot the linear relationship between `rain` and `tmax` for each season, we can use `sns.lmplot()` ([documentation](https://seaborn.pydata.org/generated/seaborn.lmplot.html)) - this will plot the scatter plot, plus the regression lines:"
   ]
  },
  {
   "cell_type": "code",
   "execution_count": null,
   "id": "2572bfa2-0133-474c-8508-0464020ab2cb",
   "metadata": {},
   "outputs": [],
   "source": [
    "sns.lmplot(data=armagh, x='rain', y='tmax', hue='season')"
   ]
  },
  {
   "cell_type": "markdown",
   "id": "e3b487ed-706e-48ff-9f89-5c8bcacafa46",
   "metadata": {},
   "source": [
    "Up to now, we've just been showing the output of the different plotting calls directly by running each cell. In a script, however, this wouldn't work - we want to assign the output to a new **object**, which we can then use in the script (including, ultimately, by saving the plot to a file).\n",
    "\n",
    "We do this exactly the same way as we have previously, using the `=` operator:"
   ]
  },
  {
   "cell_type": "code",
   "execution_count": null,
   "id": "d93bd11f-0c30-4e7f-bdc4-2148efeb43d4",
   "metadata": {},
   "outputs": [],
   "source": [
    "rain_tmax_plot = sns.lmplot(data=armagh, x='rain', y='tmax', hue='season')"
   ]
  },
  {
   "cell_type": "markdown",
   "id": "cfb5ccd6-02fd-4e9c-b09d-62d072a6bb21",
   "metadata": {},
   "source": [
    "Now, we can use this object to change the properties of the axes. `seaborn` is built on top of another package, [matplotlib](https://matplotlib.org/stable/users/index), and many of the objects created by `seaborn` either are `matplotlib` objects, or they inherit a number of attributes from the `matplotlib` classes they are built on.\n",
    "\n",
    "For example, the `rain_tmax_plot` object we have created is a **seaborn.axisgrid.FacetGrid**:"
   ]
  },
  {
   "cell_type": "code",
   "execution_count": null,
   "id": "6bc73353-bf17-4ed2-8d47-50c9b2da1557",
   "metadata": {},
   "outputs": [],
   "source": [
    "type(rain_tmax_plot) # show the type of rain_tmax_plot"
   ]
  },
  {
   "cell_type": "markdown",
   "id": "9094f971-2008-4baa-b86e-4a0caf5d1599",
   "metadata": {},
   "source": [
    "This **class** has an attribute, `ax`, which is a **matplotlib.axes.Axes** ([documentation](https://matplotlib.org/stable/api/_as_gen/matplotlib.axes.Axes.html)):"
   ]
  },
  {
   "cell_type": "code",
   "execution_count": null,
   "id": "5eb22db1-951c-4353-aef3-8b356daba61d",
   "metadata": {},
   "outputs": [],
   "source": [
    "type(rain_tmax_plot.ax) # show the type of rain_tmax_plot.ax"
   ]
  },
  {
   "cell_type": "markdown",
   "id": "af2d51f9-eb7c-4436-848f-ca8e0f17b248",
   "metadata": {},
   "source": [
    "To change the properties of the axes, then, we can use the relevant **Axes** methods. For example, `.set_xlabel()` ([documentation](https://matplotlib.org/stable/api/_as_gen/matplotlib.axes.Axes.set_xlabel.html)) and `.set_ylabel()` ([documentation](https://matplotlib.org/stable/api/_as_gen/matplotlib.axes.Axes.set_ylabel.html)) will change the text and properties of the x and y axis labels, respectively, and we can use the `fontsize` argument to set the size of the text:"
   ]
  },
  {
   "cell_type": "code",
   "execution_count": null,
   "id": "c214e473-aa39-4450-a95a-3da0076cbda1",
   "metadata": {},
   "outputs": [],
   "source": [
    "rain_tmax_plot.ax.set_xlabel('monthly rainfall (mm)', fontsize=14) # set the x axis label\n",
    "rain_tmax_plot.ax.set_ylabel('monthly maximum temperature (°C)', fontsize=14) # set the y axis label\n",
    "\n",
    "rain_tmax_plot.fig # show the figure again"
   ]
  },
  {
   "cell_type": "markdown",
   "id": "f572b634-a7ca-49c7-966f-b52b720958c9",
   "metadata": {},
   "source": [
    "We can also use `.set_xticks()` ([documentation](https://matplotlib.org/stable/api/_as_gen/matplotlib.axes.Axes.set_xticks.html)) and `.set_yticks()` ([documentation](https://matplotlib.org/stable/api/_as_gen/matplotlib.axes.Axes.set_yticks.html)) to change the location, text, and properties of the ticks on the x and y axis, respectively:"
   ]
  },
  {
   "cell_type": "code",
   "execution_count": null,
   "id": "5d77474b-704c-486d-95ea-eb573e6903de",
   "metadata": {},
   "outputs": [],
   "source": [
    "rain_tmax_plot.ax.set_xticks(range(0, 250, 50), labels=range(0, 250, 50), fontsize=12) # change the xtick label font size\n",
    "rain_tmax_plot.ax.set_yticks(range(5, 25, 5), labels=range(5, 25, 5), fontsize=12) # change the xtick label font size\n",
    "\n",
    "rain_tmax_plot.fig # show the figure again"
   ]
  },
  {
   "cell_type": "markdown",
   "id": "f5a3d46f-7317-42c9-a656-2c77b03a45e8",
   "metadata": {},
   "source": [
    "## saving the figure to a file\n",
    "\n",
    "As you can see from the previous few cells, we have been using `rain_tmax_plot.fig` to show the updates to the figure. As you might have guessed, this is a **matplotlib.figure.Figure** object ([documentation](https://matplotlib.org/stable/api/figure_api.html#matplotlib.figure.Figure)) - effectively, the canvas where `seaborn` draws the plot:"
   ]
  },
  {
   "cell_type": "code",
   "execution_count": null,
   "id": "01e72479-4cd7-4edc-a02b-cca56d2b4de3",
   "metadata": {},
   "outputs": [],
   "source": [
    "type(rain_tmax_plot.fig) # show the type of rain_tmax_plot.fig"
   ]
  },
  {
   "cell_type": "markdown",
   "id": "2d5931aa-73df-4c07-a7de-98cac7d677d2",
   "metadata": {},
   "source": [
    "To save our figure to a file, we can use `.savefig()` ([documentation](https://matplotlib.org/stable/api/figure_api.html#matplotlib.figure.Figure.savefig)) as an SVG (scalable vector graphics) file: "
   ]
  },
  {
   "cell_type": "code",
   "execution_count": null,
   "id": "e5396fc9-3bce-4178-8104-3952fc742cf7",
   "metadata": {},
   "outputs": [],
   "source": [
    "rain_tmax_plot.fig.savefig('rain_tmax_plot.svg', bbox_inches='tight') # save the figure cropped close to the axes"
   ]
  },
  {
   "cell_type": "markdown",
   "id": "fc7e9739-b3a8-4c66-9301-ce74b675d7db",
   "metadata": {},
   "source": [
    "## exercise and next steps\n",
    "\n",
    "That's all for this exercise. To practice your skills, create a script that does the following:\n",
    "\n",
    "- loads the packages that you will need at the beginning of the script\n",
    "- adds a season variable\n",
    "- adds a variable to divide the data into three 50 year periods: 1871-1920, 1921-1970, and 1971-2020\n",
    "- selects only those observations between 1871 and 2020 (inclusive)\n",
    "- creates a figure to plot the density distribution of tmin for each period in its own panel, colored by season (using both color and fill)\n",
    "- creates a figure to plot the density distribution of tmin for each period in the same panel, colored by the period (using both color and fill)\n",
    "- sets appropriate labels and font sizes for the axis text\n",
    "- saves each plot to its own file."
   ]
  }
 ],
 "metadata": {
  "kernelspec": {
   "display_name": "Python 3 (ipykernel)",
   "language": "python",
   "name": "python3"
  },
  "language_info": {
   "codemirror_mode": {
    "name": "ipython",
    "version": 3
   },
   "file_extension": ".py",
   "mimetype": "text/x-python",
   "name": "python",
   "nbconvert_exporter": "python",
   "pygments_lexer": "ipython3",
   "version": "3.10.15"
  }
 },
 "nbformat": 4,
 "nbformat_minor": 5
}
