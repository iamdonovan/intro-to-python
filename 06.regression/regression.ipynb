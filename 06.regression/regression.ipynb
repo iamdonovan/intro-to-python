{
 "cells": [
  {
   "cell_type": "markdown",
   "id": "2503666d-e65c-483f-9133-92e9e8bc43e2",
   "metadata": {},
   "source": [
    "# linear regression with python\n",
    "\n",
    "In this exercise, we'll see how we can use python for both simple and linear regression. We'll also see how we can calculate the correlation between two variables, and get some additional practice working with grouped data.\n",
    "\n",
    "## data\n",
    "\n",
    "The data used in this exercise are the historic meteorological observations from the [Armagh Observatory](https://www.metoffice.gov.uk/weather/learn-about/how-forecasts-are-made/observations/recording-observations-for-over-100-years) (1853-present), the Oxford Observatory (1853-present), the Southampton Observatory (1855-2000), and Stornoway Airport (1873-present), downloaded from the [UK Met Office](https://www.metoffice.gov.uk/research/climate/maps-and-data/historic-station-data) that we used in previous exercises.\n",
    "\n",
    "## getting started\n",
    "\n",
    "First, we'll import the various packages that we will be using here:\n",
    "\n",
    "- [pandas](https://pandas.pydata.org/), for reading the data from a file;\n",
    "- [seaborn](https://seaborn.pydata.org/), for plotting the data;\n",
    "- [scipy.stats](https://docs.scipy.org/doc/scipy/reference/stats.html), for calculating correlation coefficients;\n",
    "- [pingouin](https://pingouin-stats.org/), for linear regression;\n",
    "- [pathlib](https://docs.python.org/3/library/pathlib.html), for working with filesystem paths."
   ]
  },
  {
   "cell_type": "code",
   "execution_count": null,
   "id": "7309c34f-0b08-408d-ab41-fcbe1d8f489d",
   "metadata": {},
   "outputs": [],
   "source": [
    "import pandas as pd\n",
    "import seaborn as sns\n",
    "from scipy import stats\n",
    "import pingouin as pg\n",
    "from pathlib import Path"
   ]
  },
  {
   "cell_type": "markdown",
   "id": "fc1d9b2c-f3ed-4ebd-9e9d-07dd014d07ac",
   "metadata": {},
   "source": [
    "Next, we'll use `pd.read_csv()` to load the combined station data:"
   ]
  },
  {
   "cell_type": "code",
   "execution_count": null,
   "id": "68ab381e-9a51-4f51-ae00-e797e4bc88fd",
   "metadata": {},
   "outputs": [],
   "source": [
    "station_data = pd.read_csv(Path('data', 'combined_stations.csv'), parse_dates=['date']) # load the combined station data"
   ]
  },
  {
   "cell_type": "markdown",
   "id": "7e7d370d-c0e2-45dd-83db-21a8a90930ea",
   "metadata": {},
   "source": [
    "## plotting relationships\n",
    "\n",
    "Before jumping into correlation and regreesion, let's have a look at the data we're investigating. In the cell below, write some lines of code to create a scatter plot of `tmax` vs `rain`, with different colors, shapes, and a regression line for each season. Be sure to assign the plot to an object called `rain_tmax_plot`:"
   ]
  },
  {
   "cell_type": "code",
   "execution_count": null,
   "id": "995e5f56-a6c4-4a19-8b57-75bd6567b8be",
   "metadata": {},
   "outputs": [],
   "source": [
    "# your code goes here!\n",
    "rain_tmax_plot # show the plot"
   ]
  },
  {
   "cell_type": "markdown",
   "id": "8ca300fa-e003-4fe7-ae6c-995356dbb6bc",
   "metadata": {},
   "source": [
    "What kind of relationship is there between `tmax` and `rain`? Does it depend on the season? How strong is the relationship, and what does this mean for the slope of each regression line?\n",
    "\n",
    "## calculating correlation\n",
    "\n",
    "The next thing we'll look at is how to calculate the *correlation* between two variables, using a few different methods. We'll start by calculating the covariance for all values of a variable in a **DataFrame**, then we'll have a look at calculating correlation using `scipy.stats` ([documentation](https://docs.scipy.org/doc/scipy/reference/stats.html)).\n",
    "\n",
    "### using pandas .corr()\n",
    "\n",
    "The basic use of `corr()` ([documentation](https://pandas.pydata.org/pandas-docs/stable/reference/api/pandas.DataFrame.corr.html)) calculates Pearson's correlation coefficient between each column in the table, pairwise. With the `method` argument, we can also calculate Spearman's rho (`method='spearman'`) and Kendall's tau (`method='kendall'`).\n",
    "\n",
    "Because we have non-numeric variables in the table, we'll use the `numeric_only` argument to avoid a `ValueError` being raised. Helpfully, `.corr()` ignores any `NaN` values for us, so we don't have to worry about filtering those values out beforehand."
   ]
  },
  {
   "cell_type": "code",
   "execution_count": null,
   "id": "74209fa4-830d-464d-a291-9a05b4182256",
   "metadata": {},
   "outputs": [],
   "source": [
    "station_data.corr(numeric_only=True) # calculate the correlation between all numeric variables in the table"
   ]
  },
  {
   "cell_type": "markdown",
   "id": "b8575115-565e-46c3-b330-59c936f6e863",
   "metadata": {},
   "source": [
    "Out of all of the variables in the table, which have the strongest correlation (ignoring the values on the diagonal)? Does this make sense?\n",
    "\n",
    "### by groups\n",
    "\n",
    "We're more interested in calculating the correlation for different groups - as you can see from the plot above, the relationship between `rain` and `tmax` is not the same in each season - even though the overall correlation is slightly negative, the correlation in winter is clearly positive.\n",
    "\n",
    "We've already seen all of the different parts we need here. To calculate the correlation based on `season`, we can use `.groupby()` to group the dataset before calling `.corr()`:"
   ]
  },
  {
   "cell_type": "code",
   "execution_count": null,
   "id": "94679517-6b54-4a0f-a5a1-d7d318a3f939",
   "metadata": {},
   "outputs": [],
   "source": [
    "station_data.groupby('season')[['rain', 'tmax']].corr() # calculate pearson's r for rain and tmax, grouped by season"
   ]
  },
  {
   "cell_type": "markdown",
   "id": "12d40845-773e-4b0e-bfc5-60e81aad2f1b",
   "metadata": {},
   "source": [
    "### using scipy.stats\n",
    "\n",
    "From the outputs above, you can see that `pandas.DataFrame.corr()` outputs the full covariance matrix, not just the correlation value we're interested in. In the cells below, we'll see how we can use some of what we have learned previously, along with `scipy.stats`, to create a **DataFrame** with just the correlation values between `rain` and `tmax`.\n",
    "\n",
    "In the cell below, we'll use a `for` loop to calculate correlation coefficients (Pearson's r, Spearman's rho, and Kendall's tau) for `rain` and `tmax` based on data from each season. We'll build a nested list of the correlation coefficients for each season by first creating an empty list, then using `list.append()` to add the coefficients for each season in turn.\n",
    "\n",
    "**Before running the cell**, be sure to create an object, `seasons`, that contains the names of each season. You can write this explicitly, but you might want to practice getting this output from the data directly."
   ]
  },
  {
   "cell_type": "code",
   "execution_count": null,
   "id": "97502e50-89c6-48e9-97e2-b62aba5425c2",
   "metadata": {},
   "outputs": [],
   "source": [
    "# get a list of season names - remember that there's more than one way to do this!\n",
    "corr_data = [] # initalize an empty list\n",
    "\n",
    "for season in seasons:\n",
    "    season_data = station_data.loc[station_data['season'] == season].dropna(subset=['rain', 'tmax']) # select the data for this season, drop nan values from rain and tmax\n",
    "    this_corr = [stats.pearsonr(season_data['rain'], season_data['tmax']).statistic, # calculate pearson's r between rain and tmax\n",
    "                 stats.spearmanr(season_data['rain'], season_data['tmax']).statistic, # calculate spearman's rho between rain and tmax\n",
    "                 stats.kendalltau(season_data['rain'], season_data['tmax']).statistic] # calculate kendall's tau between rain and tmax\n",
    "    corr_data.append(this_corr) # add these values to the list\n",
    "\n",
    "corr_data # show the nested list of correlation values"
   ]
  },
  {
   "cell_type": "markdown",
   "id": "45c2da9c-68ba-425a-bcbb-33f6baf4e164",
   "metadata": {},
   "source": [
    "Now that we have created the nested list (effectively, an array of values), we can create a new **DataFrame** object by specifying the `data`, `index`, and `columns` arguments:"
   ]
  },
  {
   "cell_type": "code",
   "execution_count": null,
   "id": "05f90dd7-76f3-4af3-bc09-c6c203e42579",
   "metadata": {},
   "outputs": [],
   "source": [
    "corr_df = pd.DataFrame(data=corr_data, index=seasons, columns=['pearson', 'spearman', 'kendall']) # create a dataframe with the correlation data\n",
    "corr_df # show the correlation dataframe"
   ]
  },
  {
   "cell_type": "markdown",
   "id": "6381fd10-c7e1-4480-abf8-2c3deed89209",
   "metadata": {},
   "source": [
    "Note that calculating the correlation coefficient using `scipy.stats` has an additional benefit - unlike with `pandas.DataFrame.corr()`, `scipy.stats` will also provide a significance value for the calculated correlation:"
   ]
  },
  {
   "cell_type": "code",
   "execution_count": null,
   "id": "5cde6fea-e1b6-475e-8adb-a8e91e713177",
   "metadata": {},
   "outputs": [],
   "source": [
    "corr = stats.pearsonr(station_data.dropna(subset=['rain', 'tmax'])['rain'], \n",
    "                      station_data.dropna(subset=['rain', 'tmax'])['tmax'])\n",
    "\n",
    "print(f\"calculated value of r: {corr.statistic:.3f}\")\n",
    "print(f\"calculated p-value of r: {corr.pvalue}\")"
   ]
  },
  {
   "cell_type": "markdown",
   "id": "6c4cb657-182d-4cbc-a022-45a595332a8f",
   "metadata": {},
   "source": [
    "And, using `pg.corr()` ([documentation](https://pingouin-stats.org/build/html/generated/pingouin.corr.html)) gives us even more information, such as the confidence interval for the correlation value, as well as additional options for calculating the correlation coefficient:"
   ]
  },
  {
   "cell_type": "code",
   "execution_count": null,
   "id": "fa3e2280-bc03-4ad0-8ef7-7118775db44f",
   "metadata": {},
   "outputs": [],
   "source": [
    "# calculate the biweight midcorrelation between rain and tmax\n",
    "pg.corr(station_data.dropna(subset=['rain', 'tmax'])['rain'], \n",
    "        station_data.dropna(subset=['rain', 'tmax'])['tmax'], method='bicor')"
   ]
  },
  {
   "cell_type": "markdown",
   "id": "318a6171-4a05-4136-93d0-196a5eff85e8",
   "metadata": {},
   "source": [
    "## simple linear regression\n",
    "\n",
    "We'll start by fitting a linear model for spring. To prepare the data, write a line of code below that selects only the spring observations, and assigns the output to an object called `spring`:"
   ]
  },
  {
   "cell_type": "code",
   "execution_count": null,
   "id": "31bdb409-6519-467c-94e1-c5e618e5e39d",
   "metadata": {},
   "outputs": [],
   "source": [
    "# select only spring observations"
   ]
  },
  {
   "cell_type": "markdown",
   "id": "5c284858-4364-4b83-ad24-d17f94926812",
   "metadata": {},
   "source": [
    "Remember that a linear model with a single variable has the form:\n",
    "\n",
    "$$ y = \\beta + \\alpha x, $$\n",
    "\n",
    "where $\\beta$ is the intercept and $\\alpha$ is the slope of the line. To fit a linear model using `pingouin`, we use `pg.linear_regression()` ([documentation](https://pingouin-stats.org/build/html/generated/pingouin.linear_regression.html)). \n",
    "\n",
    "The main inputs to `pg.linear_regression()` are `X`, the observations of the *explanatory* (*independent*) variable(s), and `y`, the observations of the *response* (*dependent*) variables. We can also specify the significance level (`alpha`) to use when calculating the statistics of the fitted model, as well as additional arguments. By default, `pg.linear_regression()` adds an intercept to be fitted. \n",
    "\n",
    "So, the process to fit a linear relationship between `tmax` and `rain` would look like this:"
   ]
  },
  {
   "cell_type": "code",
   "execution_count": null,
   "id": "b9e5f5f2-6788-4d5b-a85a-fff79b0b8283",
   "metadata": {},
   "outputs": [],
   "source": [
    "xdata = spring.dropna(subset=['rain', 'tmax'])['rain'] # select the rain variable, after dropping NaN values\n",
    "ydata = spring.dropna(subset=['rain', 'tmax'])['tmax'] # select the tmax variable, after dropping NaN values\n",
    "\n",
    "lin_model = pg.linear_regression(xdata, ydata, alpha=0.01) # run the regression at the 99% significance level\n",
    "\n",
    "lin_model.round(3) # round the output table to 3 decimal places"
   ]
  },
  {
   "cell_type": "markdown",
   "id": "ed86c6dc-ace9-4c3a-81c3-fe8457b03e2a",
   "metadata": {},
   "source": [
    "The output of `pg.linear_regression()` is a **DataFrame** with the following columns:\n",
    "\n",
    "- `names`: the names of the outputs (`intercept`) and the slope for each explanatory variable;\n",
    "- `coef`: the values of the regression coefficients;\n",
    "- `se`: the standard error of the estimated coefficients;\n",
    "- `T`: the *t*-statistic of the estimates;\n",
    "- `pval`: the *p*-values of the *t*-statistics;\n",
    "- `r2`: the coefficient of determination;\n",
    "- `adj_r2`: the adjusted coefficient of determination;\n",
    "- `CI{alpha/2}%`: the lower value of the confidence interval;\n",
    "- `CI{1-alpha/2}%`: the upper value of the confidence interval;\n",
    "- `relimp`: the relative contribution of each predictor to the final (if `relimp=True`);\n",
    "- `relimp_perc`: the percent relative contribution\n",
    "\n",
    "The ouptut **DataFrame** also has hidden attributes such as the residuals (`lin_model.residuals_`), the degrees of freedom of the model (`lin_model.df_model_`), and the degrees of freedom of the residuals (`lin_model.df_resid_`).\n",
    "\n",
    "## multiple linear regression\n",
    "\n",
    "Now, let's try to fit a linear model of `tmax` with two variables: `rain` and `sun`. Remember that multiple linear regression tries to fit a model with the form:\n",
    "\n",
    "$$ y = \\beta + \\alpha_1 x_1 + \\cdots + \\alpha_n x_n $$\n",
    "\n",
    "With only two variables, this would look like:\n",
    "\n",
    "$$ y = \\beta + \\alpha_1 x_1 + \\alpha_2 x_2 $$\n",
    "\n",
    "The code to fit this model using `pingouin` looks like this:"
   ]
  },
  {
   "cell_type": "code",
   "execution_count": null,
   "id": "e7b73e5e-27cd-4e81-b253-1adf1ed81167",
   "metadata": {},
   "outputs": [],
   "source": [
    "xdata = station_data.dropna(subset=['rain', 'tmax', 'sun'])[['rain', 'sun']] # select the rain and sun variables, after dropping NaN values\n",
    "ydata = station_data.dropna(subset=['rain', 'tmax', 'sun'])['tmax'] # select the tmax variable, after dropping NaN values\n",
    "\n",
    "ml_model = pg.linear_regression(xdata, ydata, alpha=0.01) # run the regression at the 99% significance level\n",
    "\n",
    "ml_model.round(3) # round the output table to 3 decimal places"
   ]
  },
  {
   "cell_type": "markdown",
   "id": "861dc26d-3493-410d-a9c1-c976982a2f75",
   "metadata": {},
   "source": [
    "## bonus: linear regression with groups\n",
    "\n",
    "As a final exercise, let's see how we can combine some of the tools we've used in the workshop so far, along with a few new ones, to fit linear models for each season.\n",
    "\n",
    "For the most part, the structure of this is the same as the correlation example previously. We loop over each season name, and add the result to some variable - in this case, a **dict**, where the keys are the names of each season:"
   ]
  },
  {
   "cell_type": "code",
   "execution_count": null,
   "id": "8e90e49e-8ea2-471c-9f39-4e42da252b9e",
   "metadata": {},
   "outputs": [],
   "source": [
    "results = dict() # initialize an empty dictionary\n",
    "\n",
    "for season in seasons:\n",
    "    season_data = station_data.loc[station_data['season'] == season].dropna(subset=['rain', 'tmax']) # select the data for this season, drop nan values from rain and tmax\n",
    "\n",
    "    xdata = season_data['rain'] # select the rain variable\n",
    "    ydata = season_data['tmax'] # select the tmax variable\n",
    "    \n",
    "    results[season] = pg.linear_regression(xdata, ydata, alpha=0.01) # add the result to the results dict, with season as the key"
   ]
  },
  {
   "cell_type": "markdown",
   "id": "920a679b-659e-4c17-968a-5af57a596fd9",
   "metadata": {},
   "source": [
    "Now, we can view the model summary for each season by using the season name as follows:"
   ]
  },
  {
   "cell_type": "code",
   "execution_count": null,
   "id": "79779f5d-9b90-48cc-9b90-4e017b96570b",
   "metadata": {},
   "outputs": [],
   "source": [
    "results['spring'] # view the results for spring"
   ]
  },
  {
   "cell_type": "markdown",
   "id": "84d78003-02f3-4a3f-8f96-967ba800647b",
   "metadata": {},
   "source": [
    "Now, let's see how we can combine these results into a single **DataFrame**. First, we'll add a column, `season`, to each **DataFrame**:"
   ]
  },
  {
   "cell_type": "code",
   "execution_count": null,
   "id": "2cecf29d-452f-4ced-ac00-f5f88677826d",
   "metadata": {},
   "outputs": [],
   "source": [
    "for season in seasons:\n",
    "    results[season]['season'] = season # add a season column"
   ]
  },
  {
   "cell_type": "markdown",
   "id": "c0651758-b6e6-45fb-aad4-7500a86422d8",
   "metadata": {},
   "source": [
    "Next, we use `pd.concatenate()`, along with the `values()` of the results **dict**, to combine the tables into a single table:"
   ]
  },
  {
   "cell_type": "code",
   "execution_count": null,
   "id": "07c39ce4-8fa8-46fd-a45f-66671a4d5510",
   "metadata": {},
   "outputs": [],
   "source": [
    "all_results = pd.concat(results.values()) # concatenate the results dataframes into a single dataframe"
   ]
  },
  {
   "cell_type": "markdown",
   "id": "f01eb88b-1d5e-456d-86fa-f793f5bfa5f5",
   "metadata": {},
   "source": [
    "Next, we'll use `.set_index()` ([documentation](https://pandas.pydata.org/pandas-docs/stable/reference/api/pandas.DataFrame.set_index.html)) to set the `season` and `names` columns to be the `index` of the **DataFrame**:"
   ]
  },
  {
   "cell_type": "code",
   "execution_count": null,
   "id": "ca84bbe4-24e3-4a23-99fb-cb2c618a8bd1",
   "metadata": {},
   "outputs": [],
   "source": [
    "all_results.set_index(['season', 'names'], inplace=True) # set the index to be a multi-index with season and names\n",
    "\n",
    "all_results # show the updated table"
   ]
  },
  {
   "cell_type": "markdown",
   "id": "eeaffe66-ab7c-4f22-8943-6c179ca914ce",
   "metadata": {},
   "source": [
    "Finally, we'll save the table of regression parameter results to a file, using `pd.to_csv()`:"
   ]
  },
  {
   "cell_type": "code",
   "execution_count": null,
   "id": "d35bf961-2e27-4a2e-8718-646551949204",
   "metadata": {},
   "outputs": [],
   "source": [
    "all_results.to_csv(Path('data', 'regression_results.csv')) # save the results to a CSV file"
   ]
  },
  {
   "cell_type": "markdown",
   "id": "ccdc6d47-415a-4bf9-badd-30a76adf7fea",
   "metadata": {
    "jp-MarkdownHeadingCollapsed": true
   },
   "source": [
    "## exercise and next steps\n",
    "\n",
    "That's all for this exercise, and for the exercises of this workshop. The next sessions are BYOD (\"bring your own data\") sessions where you can start building your **git** project repository by applying the different concepts and skills that we have covered in the workshop. Before then, if you would like to practice these skills further, try at least one of the following suggestions:\n",
    "\n",
    "- Investigate the relationship between `tmax` and `sun` overall, and by individual seasons, using `pandas.DataFrame.corr()`. What kind of relationship do these variables appear to have?\n",
    "- What is the relationship between `tmin` and `sun`? does it change by season?\n",
    "- Set up and fit a multiple linear regression model for `air_frost` as a function of `tmax`, `tmin`, `sun`, and `rain` in the winter. Which of these variables has the strongest effect on `air_frost` (hint: )?"
   ]
  }
 ],
 "metadata": {
  "kernelspec": {
   "display_name": "Python 3 (ipykernel)",
   "language": "python",
   "name": "python3"
  },
  "language_info": {
   "codemirror_mode": {
    "name": "ipython",
    "version": 3
   },
   "file_extension": ".py",
   "mimetype": "text/x-python",
   "name": "python",
   "nbconvert_exporter": "python",
   "pygments_lexer": "ipython3",
   "version": "3.10.15"
  }
 },
 "nbformat": 4,
 "nbformat_minor": 5
}
